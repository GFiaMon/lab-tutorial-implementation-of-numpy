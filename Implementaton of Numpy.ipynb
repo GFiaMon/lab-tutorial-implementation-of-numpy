{
 "cells": [
  {
   "cell_type": "markdown",
   "metadata": {
    "id": "8A01NEn8SKWm"
   },
   "source": [
    "# NumPy (Numerical Python)\n",
    "\n",
    "NumPy works on **multidimensional homogeneous array objects** and it provides a collection of functions to process those arrays. NumPy is known for the fast numerical computations. Numpy provides a high level syntax and it has a very vibrant ecosystem that interopertes for different application areas. The n-dimensional arrays are known as **ndarray**. ndarray forms the primitive building blocks of numerous python libraries."
   ]
  },
  {
   "cell_type": "markdown",
   "metadata": {
    "id": "kRC90wkCaGdV"
   },
   "source": [
    "# Importing numpy\n",
    "\n",
    "NumPy is available by default in Colab notebooks. Therefore the library can be invoked directly using the *import* statement\n",
    "\n",
    "*PS: Follow the instructions on the [Installation section](https://numpy.org/install/) of NumPy to make local installations.*\n"
   ]
  },
  {
   "cell_type": "code",
   "execution_count": 30,
   "metadata": {
    "id": "f6ey4hZmBYoe"
   },
   "outputs": [
    {
     "name": "stdout",
     "output_type": "stream",
     "text": [
      "Loaded 1.26.4 version of numpy!!!\n"
     ]
    }
   ],
   "source": [
    "import numpy as np\n",
    "print(\"Loaded\", np.__version__, \"version of numpy!!!\")"
   ]
  },
  {
   "cell_type": "markdown",
   "metadata": {
    "id": "E1QyghMraoIU"
   },
   "source": [
    "# Creating NumPy arrays\n",
    "\n",
    "The basic ndarray is created using the **array** function, which takes any sequence as an input parameter. NumPy arrays can be easily created from lists \n"
   ]
  },
  {
   "cell_type": "code",
   "execution_count": 31,
   "metadata": {
    "id": "69_hyreHan2i"
   },
   "outputs": [
    {
     "name": "stdout",
     "output_type": "stream",
     "text": [
      "var1 = [1 2 3 4 5]\n",
      "var2 = [[1 2 3 4 5]\n",
      " [6 7 8 9 0]]\n"
     ]
    }
   ],
   "source": [
    "# creating a 1 dimensional array\n",
    "var1 = np.array([1, 2, 3, 4, 5])\n",
    "\n",
    "# creating a 2 dimensional array\n",
    "var2 = np.array([[1, 2, 3, 4, 5],\n",
    "                 [6, 7, 8, 9, 0]])\n",
    "\n",
    "print(\"var1 =\", var1)\n",
    "print(\"var2 =\", var2)"
   ]
  },
  {
   "cell_type": "code",
   "execution_count": 32,
   "metadata": {
    "id": "-BsQcnkzfUnw"
   },
   "outputs": [
    {
     "name": "stdout",
     "output_type": "stream",
     "text": [
      "var3 = [1. 2. 3.]\n",
      "var4 = [1 2 3]\n",
      "var5 = [1.+0.j 2.+0.j 3.+0.j]\n"
     ]
    }
   ],
   "source": [
    "# It is also possible to specify the type of the element during array creation\n",
    "var3 = np.array([1, 2, 3], dtype=np.float32)\n",
    "print(\"var3 =\", var3)\n",
    "\n",
    "# Notice the usage of numpy arrays to create another array with a different dtype\n",
    "var4 = np.array(var3, dtype=np.int32)\n",
    "print(\"var4 =\", var4)\n",
    "\n",
    "var5 = np.array(var4, dtype=complex)\n",
    "print(\"var5 =\", var5)"
   ]
  },
  {
   "cell_type": "markdown",
   "metadata": {
    "id": "txjNpncRbr63"
   },
   "source": [
    "# Array Properties\n",
    "The important attributes of the ndarray are\n",
    "\n",
    "*   shape: Dimensions of the array\n",
    "*   size: Total number of elements in the array\n",
    "*   ndim: Number of axes\n",
    "*   dtype: Type of the elements of the array\n",
    "\n"
   ]
  },
  {
   "cell_type": "code",
   "execution_count": 33,
   "metadata": {
    "id": "-_R08BJ7djMc"
   },
   "outputs": [
    {
     "name": "stdout",
     "output_type": "stream",
     "text": [
      "type \t shape \t size \t dimentions\n",
      "int64 \t (5,) \t 5 \t 1\n",
      "int64 \t (2, 5) \t 10 \t 2\n",
      "float32 \t (3,) \t 3 \t 1\n",
      "int32 \t (3,) \t 3 \t 1\n",
      "complex128 \t (3,) \t 3 \t 1\n"
     ]
    }
   ],
   "source": [
    "print('type', '\\t', 'shape', '\\t', 'size', '\\t', 'dimentions')\n",
    "\n",
    "print(var1.dtype, '\\t', var1.shape, '\\t', var1.size, '\\t', var1.ndim)\n",
    "print(var2.dtype, '\\t', var2.shape, '\\t', var2.size, '\\t', var2.ndim)\n",
    "print(var3.dtype, '\\t', var3.shape, '\\t', var3.size, '\\t', var3.ndim)\n",
    "print(var4.dtype, '\\t', var4.shape, '\\t', var4.size, '\\t', var4.ndim)\n",
    "print(var5.dtype, '\\t', var5.shape, '\\t', var5.size, '\\t', var5.ndim)"
   ]
  },
  {
   "cell_type": "markdown",
   "metadata": {
    "id": "s_0VKHuihhkU"
   },
   "source": [
    "# Other array creation methods\n",
    "\n",
    "It is not always necessary to have the elements defined during the creation of the arrays. There are several NumPy functions that allows you to create arrays to act as placeholders before the actual computations.\n",
    "\n",
    "**Exercise #01:**\n",
    "\n",
    "*   Create different array objects using the following functions: (1) zeros, (2) ones, (3) empty, (4) zeros_like, (5) ones_like, (6) empty_like \n"
   ]
  },
  {
   "cell_type": "code",
   "execution_count": 39,
   "metadata": {
    "id": "88Gce1SwjCOO"
   },
   "outputs": [
    {
     "name": "stdout",
     "output_type": "stream",
     "text": [
      "[[[0. 0. 0. 0.]\n",
      "  [0. 0. 0. 0.]]\n",
      "\n",
      " [[0. 0. 0. 0.]\n",
      "  [0. 0. 0. 0.]]]\n"
     ]
    }
   ],
   "source": [
    "# Solution\n",
    "# np.zeros((2, 5, 10))\n",
    "arr1 = np.zeros((2,2,4), dtype=float)\n",
    "print(arr1)"
   ]
  },
  {
   "cell_type": "code",
   "execution_count": 35,
   "metadata": {},
   "outputs": [
    {
     "name": "stdout",
     "output_type": "stream",
     "text": [
      "[[1. 1.]\n",
      " [1. 1.]]\n"
     ]
    }
   ],
   "source": [
    "# Solution\n",
    "# np.zeros((2, 5, 10))\n",
    "arr2 = np.ones((2,2))\n",
    "print(arr2)"
   ]
  },
  {
   "cell_type": "code",
   "execution_count": 38,
   "metadata": {},
   "outputs": [
    {
     "name": "stdout",
     "output_type": "stream",
     "text": [
      "[[1. 0.]\n",
      " [2. 0.]\n",
      " [3. 0.]]\n"
     ]
    }
   ],
   "source": [
    "arr3 = np.empty((3,2))\n",
    "print(arr3) # why are they cero with float??"
   ]
  },
  {
   "cell_type": "code",
   "execution_count": 46,
   "metadata": {},
   "outputs": [
    {
     "name": "stdout",
     "output_type": "stream",
     "text": [
      "[[[0. 0. 0. 0.]\n",
      "  [0. 0. 0. 0.]]\n",
      "\n",
      " [[0. 0. 0. 0.]\n",
      "  [0. 0. 0. 0.]]]\n"
     ]
    }
   ],
   "source": [
    "arr4 = np.zeros_like(arr1) # i have to tell it to be like another array but I cannot tell it to be like a created array? yes, I can, I had a mistake in 'zero' instead of 'zeros'\n",
    "print(arr4)  # Can "
   ]
  },
  {
   "cell_type": "code",
   "execution_count": 45,
   "metadata": {},
   "outputs": [
    {
     "name": "stdout",
     "output_type": "stream",
     "text": [
      "[[0 0]\n",
      " [0 0]]\n"
     ]
    }
   ],
   "source": [
    "a = np.array([[1, 2], [3, 4]])\n",
    "arr4 = np.zeros_like(a)\n",
    "print(arr4)  # Can "
   ]
  },
  {
   "cell_type": "code",
   "execution_count": 48,
   "metadata": {},
   "outputs": [
    {
     "name": "stdout",
     "output_type": "stream",
     "text": [
      "[[1 1]\n",
      " [1 1]]\n"
     ]
    }
   ],
   "source": [
    "# ones_like\n",
    "arr5 = np.ones_like(a)\n",
    "print(arr5)\n"
   ]
  },
  {
   "cell_type": "code",
   "execution_count": 49,
   "metadata": {},
   "outputs": [
    {
     "name": "stdout",
     "output_type": "stream",
     "text": [
      "[[1 1]\n",
      " [1 1]]\n"
     ]
    }
   ],
   "source": [
    "# (6) empty_like \n",
    "arr6 = np.empty_like(a)\n",
    "print(arr6) "
   ]
  },
  {
   "cell_type": "markdown",
   "metadata": {
    "id": "wkSikFsXvySG"
   },
   "source": [
    "**Exercise #02:**\n",
    "\n",
    "*   What is the difference between **empty** and **zeros** methods?\n",
    "*   What is the use of **arange** and **linspace** functions?\n",
    "\n"
   ]
  },
  {
   "cell_type": "markdown",
   "metadata": {
    "id": "jHwXGNWljGA6"
   },
   "source": [
    "**Solution**\n",
    "\n",
    "1- `zero` creates an array of a specified shape and type with **ZEROS**. `Empty` creates an array of a specified shape and type without initializing its entries. This means the array could have random values, as they are whatever was already located in memory.\n",
    "\n",
    "2- a) **arange** works similar to `range` in a list or other types normaly used in python: takes three arguments: `start`, `stop`, and `step`\n",
    "\n",
    "b) **linspace** is used to create an array of evenly spaced numbers over a specified interval.\n",
    "\n",
    "Syntax: numpy.linspace(start, stop, num=50, endpoint=True, retstep=False, dtype=None, axis=0)\n",
    "*\tstart: The starting value of the sequence.\n",
    "* stop: The end value of the sequence.\n",
    "* num: The number of evenly spaced samples to generate (default is 50).\n",
    "* endpoint: If True (default), stop is the last sample. If False, it is not included, and it extends just up to it.\n",
    "* retstep: If True, it returns (samples, step), where step is the spacing between samples.\n",
    "* dtype: The type of the output array.\n",
    "* axis: The axis in the result to store the samples (relevant for multi-dimensional arrays).\n",
    "\n",
    "...\n",
    "\n"
   ]
  },
  {
   "cell_type": "markdown",
   "metadata": {
    "id": "wbOCONUDjb0q"
   },
   "source": [
    "# Shape Manipulations"
   ]
  },
  {
   "cell_type": "code",
   "execution_count": 52,
   "metadata": {
    "id": "D5acQVQWqKUC"
   },
   "outputs": [
    {
     "name": "stdout",
     "output_type": "stream",
     "text": [
      "[0 1 2 3 4 5 6 7 8 9] \n",
      "\n",
      "[[0 1 2 3 4]\n",
      " [5 6 7 8 9]] \n",
      "\n",
      "[[[0 1 2 3 4]\n",
      "  [5 6 7 8 9]]] \n",
      "\n",
      "[[[0 1 2 3 4]\n",
      "  [5 6 7 8 9]]] \n",
      "\n"
     ]
    }
   ],
   "source": [
    "# Creating a numpy array using arrange function\n",
    "var6 = np.arange(10, dtype=int)\n",
    "print(var6, \"\\n\")\n",
    "\n",
    "# Reshaping the array into 2 x 5 array\n",
    "var6 = var6.reshape(2,5)\n",
    "print(var6, \"\\n\")\n",
    "\n",
    "# Reshaping the array in 3 dimensions\n",
    "var6 = var6.reshape(1,2,5)\n",
    "print(var6, \"\\n\")\n",
    "\n",
    "# Note that it is not always necessary to give all three dimensions\n",
    "var6 = var6.reshape(1,2,-1)\n",
    "print(var6, \"\\n\")"
   ]
  },
  {
   "cell_type": "markdown",
   "metadata": {
    "id": "XxeMES7tr-4z"
   },
   "source": [
    "**Exercise #03:**\n",
    "\n",
    "*   What is the difference between reshape and resize methods?\n",
    "\n"
   ]
  },
  {
   "cell_type": "markdown",
   "metadata": {
    "id": "k3VFt4FMetim"
   },
   "source": [
    "**Solution**\n",
    "\n",
    "`reshape`\n",
    "\n",
    "* Purpose: Returns a new array with the same data but a different shape.\n",
    "\n",
    "* Behavior: The total number of elements remains unchanged. The function is non-destructive—meaning it doesn't alter the original array if the new shape is compatible. Instead, it returns a reshaped view of the original data.\n",
    "\n",
    "* Usage: reshape is used when you want to temporarily work with a view of the array in a different shape without affecting the original data.\n",
    "\n",
    "* Syntax: array.reshape(new_shape)\n",
    "\n",
    "`resize`\n",
    "\n",
    "* Purpose: Alters the size and shape of the array in place.\n",
    "* Behavior: If the new shape has more elements than the initial array, resize will fill the new values with zero (or default value). If the new shape has fewer elements, the array will be trimmed. This operation modifies the original array's data.\n",
    "\n",
    "* Usage: resize is used when you want to permanently change the array size and shape, effectively adjusting the data within.\n",
    "\n",
    "* Syntax: array.resize(new_shape)\n",
    "\n",
    "**Key Differences**\n",
    "\n",
    "* Mutation: reshape returns a new view, leaving the original array unchanged, while resize modifies the original array in place.\n",
    "* Element Count: reshape requires that the total number of elements remain constant, whereas resize can either truncate or pad the array, changing the total number of elements.\n",
    "* Impact: Use reshape for temporary viewing and manipulation, and resize when you need to actually alter the array size/shape for further use.\n",
    "\n",
    "\n",
    "..."
   ]
  },
  {
   "cell_type": "markdown",
   "metadata": {
    "id": "i9ZCRBDlqENA"
   },
   "source": [
    "# Indexing, Slicing and Iterating\n",
    "\n",
    "Indexing and slicing is similar to python lists. We use the **[ ]** operator for providing slices and indices."
   ]
  },
  {
   "cell_type": "code",
   "execution_count": 53,
   "metadata": {
    "id": "P-CZ_trPhBwH"
   },
   "outputs": [
    {
     "name": "stdout",
     "output_type": "stream",
     "text": [
      "2\n",
      "[1 2]\n"
     ]
    }
   ],
   "source": [
    "var7 = np.array([1, 2, 3, 4, 5])\n",
    "\n",
    "# indexing the second element\n",
    "# Remember array indices start with 0 in numpy\n",
    "print(var7[1])\n",
    "\n",
    "# slicing the first two elements of the array\n",
    "print(var7[0:2])"
   ]
  },
  {
   "cell_type": "code",
   "execution_count": 54,
   "metadata": {
    "id": "aTpnDW7qhpZX"
   },
   "outputs": [
    {
     "name": "stdout",
     "output_type": "stream",
     "text": [
      "[2 4]\n"
     ]
    }
   ],
   "source": [
    "# it is also possible to slice arrays based on a condition\n",
    "print(var7[var7 % 2 == 0])  # prints all the even numbers in the array"
   ]
  },
  {
   "cell_type": "code",
   "execution_count": 57,
   "metadata": {
    "id": "MP7Z7Zsikeaf"
   },
   "outputs": [
    {
     "name": "stdout",
     "output_type": "stream",
     "text": [
      "[[1 2 3]\n",
      " [4 5 6]\n",
      " [7 8 9]] \n",
      "\n",
      "5 \n",
      "\n",
      "[4 5 6]\n",
      "[2 5 8] \n",
      "\n",
      "[[1 2]\n",
      " [4 5]] \n",
      "\n"
     ]
    }
   ],
   "source": [
    "var8 = np.array([[1, 2, 3], [4, 5, 6], [7, 8, 9]])\n",
    "print(var8, \"\\n\")\n",
    "\n",
    "# indexing the element at second row and second column\n",
    "print(var8[1,1], \"\\n\")\n",
    "\n",
    "# it is possible to slice the entire row or column\n",
    "print(var8[1])\n",
    "print(var8[:,1], \"\\n\")\n",
    "\n",
    "# slice a particular range\n",
    "print(var8[0:2, 0:2], \"\\n\")"
   ]
  },
  {
   "cell_type": "markdown",
   "metadata": {
    "id": "EoGBpQv_wDrn"
   },
   "source": [
    "A visual illustration of slicing mechanism can be seen here\n",
    "\n",
    "![numpy_indexing.png](https://education-team-2020.s3.eu-west-1.amazonaws.com/ds-ai/indexing-and-slicing.png)\n",
    "\n",
    "*Reference: https://lectures.scientific-python.org/intro/numpy/array_object.html#indexing-and-slicing*"
   ]
  },
  {
   "cell_type": "markdown",
   "metadata": {
    "id": "KPx5YbuBiKjw"
   },
   "source": [
    "# **Exercise #04:**\n",
    "\n",
    "*   What is the use of non-zero function? Provide an example of how non-zero function can be used.\n",
    "\n"
   ]
  },
  {
   "cell_type": "markdown",
   "metadata": {
    "id": "0SbXe2gHipxo"
   },
   "source": [
    "**Solution**\n",
    "\n",
    "`numpy.nonzero()` function is a tool used to find the indices/index of non-zero elements in an array.\n",
    "\n",
    "* Purpose: Returns a tuple of arrays, one for each dimension of the input array, containing the indices of the non-zero elements.\n",
    "\n",
    "\n",
    "\n",
    "..."
   ]
  },
  {
   "cell_type": "code",
   "execution_count": 61,
   "metadata": {
    "id": "07q5D1ygiblJ"
   },
   "outputs": [
    {
     "name": "stdout",
     "output_type": "stream",
     "text": [
      "Non-zero indices in each dimension:\n",
      "(array([0, 0, 1, 2, 2]), array([0, 2, 1, 0, 1]))\n",
      "Non-zero elements:\n",
      "[1 3 4 5 6]\n"
     ]
    }
   ],
   "source": [
    "# solution\n",
    "\n",
    "import numpy as np\n",
    "\n",
    "# Create a sample array\n",
    "array = np.array([[1, 0, 3], \n",
    "                  [0, 4, 0], \n",
    "                  [5, 6, 0]])\n",
    "\n",
    "# Use nonzero() to find indices of non-zero elements\n",
    "non_zero_indices = np.nonzero(array)\n",
    "\n",
    "print(\"Non-zero indices in each dimension:\")\n",
    "print(non_zero_indices)\n",
    "\n",
    "# Extracting non-zero elements using these indices\n",
    "non_zero_elements = array[non_zero_indices]\n",
    "print(\"Non-zero elements:\")\n",
    "print(non_zero_elements)"
   ]
  },
  {
   "cell_type": "markdown",
   "metadata": {},
   "source": [
    "***Step-by-step Execution of np.nonzero(array):***\n",
    "\n",
    "1. Find Non-zero Elements: np.nonzero() scans each element of the array to determine which are non-zero. The goal is to figure out the position of each non-zero element.\n",
    "\n",
    "2. Resulting Indices:\n",
    "\n",
    "*\tThe function returns two arrays (since it's a 2D array), where:\n",
    "*\tThe first array gives the row indices of non-zero elements.\n",
    "*\tThe second array gives the column indices corresponding to those row indices.\n",
    "\n",
    "3. Extract Indices:\n",
    "\n",
    "*\tarray[0, 0] = 1 (Non-zero)\n",
    "*\tarray[0, 2] = 3 (Non-zero)\n",
    "*\tarray[1, 1] = 4 (Non-zero)\n",
    "*\tarray[2, 0] = 5 (Non-zero)\n",
    "*\tarray[2, 1] = 6 (Non-zero)\n",
    "\n",
    "*\t**nonzero() Output:**\n",
    "\n",
    "*\t**First Index Array (Row indices): [0, 0, 1, 2, 2]**\n",
    "*\tExplains which row each non-zero element is in:\n",
    "*\tBoth 1 and 3 are in row 0.\n",
    "*\t4 is in row 1.\n",
    "*\tBoth 5 and 6 are in row 2.\n",
    "\n",
    "*\t**Second Index Array (Column indices): [0, 2, 1, 0, 1]**\n",
    "*\tExplains which column each non-zero element is in:\n",
    "*\t1 is in column 0, 3 is in column 2.\n",
    "*\t4 is in column 1.\n",
    "*\t5 is in column 0, 6 is in column 1.\n"
   ]
  },
  {
   "cell_type": "markdown",
   "metadata": {
    "id": "OJm98xQKzwgx"
   },
   "source": [
    "Iterating an array can be either performed using the python list style or using the nditer function."
   ]
  },
  {
   "cell_type": "code",
   "execution_count": 65,
   "metadata": {
    "id": "trCOmdaxz3L6"
   },
   "outputs": [
    {
     "name": "stdout",
     "output_type": "stream",
     "text": [
      "[1 2 3]\n",
      "[4 5 6]\n",
      "\n",
      "\n",
      "1\n",
      "2\n",
      "3\n",
      "4\n",
      "5\n",
      "6\n"
     ]
    }
   ],
   "source": [
    "var9 = np.array([[1, 2, 3], [4, 5, 6]])\n",
    "\n",
    "for i in var9: # outer loop to access row\n",
    "    print(i) # returns the entire row\n",
    "print(\"\\n\")\n",
    "for i in var9: # outer loop to access row\n",
    "    for j in i:  # iterating each element of the row\n",
    "        print(j) # returns the element value"
   ]
  },
  {
   "cell_type": "code",
   "execution_count": 74,
   "metadata": {
    "id": "yiSVVSTpyoZI"
   },
   "outputs": [
    {
     "name": "stdout",
     "output_type": "stream",
     "text": [
      "1\n",
      "2\n",
      "3\n",
      "4\n",
      "5\n",
      "6\n"
     ]
    }
   ],
   "source": [
    "# an alternative to the nesting for loop is the nditer function\n",
    "var10 = np.array([[1, 2, 3], [4, 5, 6]])\n",
    "for i in np.nditer(var10):\n",
    "    print(i)"
   ]
  },
  {
   "cell_type": "code",
   "execution_count": 76,
   "metadata": {},
   "outputs": [
    {
     "name": "stdout",
     "output_type": "stream",
     "text": [
      "1\n",
      "2\n",
      "3\n",
      "4\n",
      "5\n",
      "6\n",
      "7\n",
      "8\n",
      "9\n"
     ]
    }
   ],
   "source": [
    "# an alternative to the nesting for loop is the nditer function\n",
    "var11 = np.array([[1, 2, 3], [4, 5, 6], [7,8,9]])\n",
    "for i in np.nditer(var11):\n",
    "    print(i)"
   ]
  },
  {
   "cell_type": "markdown",
   "metadata": {
    "id": "kQbB9NlV0J72"
   },
   "source": [
    "# **Exercise #05:**\n",
    "\n",
    "*   How can we enumerate a numpy array?\n",
    "\n"
   ]
  },
  {
   "cell_type": "markdown",
   "metadata": {
    "id": "E4L8-Aso0Mef"
   },
   "source": [
    "**Solution**\n",
    "\n",
    "Enumerating a NumPy array means iterating through the array while keeping track of the index positions. It can be used to know both the element and their location within the array.\n",
    "\n",
    "The `enumerate` function is built into Python and works well with NumPy arrays. When you loop over an array, `enumerate` provides a counter (starting from zero) along with the elements of the array.\n",
    "\n",
    "..."
   ]
  },
  {
   "cell_type": "code",
   "execution_count": 97,
   "metadata": {},
   "outputs": [
    {
     "name": "stdout",
     "output_type": "stream",
     "text": [
      "Index: 0, Value: 10\n",
      "Index: 1, Value: 20\n",
      "Index: 2, Value: 30\n",
      "Index: 3, Value: 40\n",
      "Index: 4, Value: 50\n"
     ]
    }
   ],
   "source": [
    "# Example:\n",
    "import numpy as np\n",
    "\n",
    "# Create a NumPy array\n",
    "array = np.array([10, 20, 30, 40, 50])\n",
    "\n",
    "# Enumerate through the array\n",
    "for index, value in enumerate(array):\n",
    "    print(f\"Index: {index}, Value: {value}\")"
   ]
  },
  {
   "cell_type": "markdown",
   "metadata": {},
   "source": [
    "**Enumerating Multi-Dimensional Arrays**\n",
    "\n",
    "If you're working with multi-dimensional arrays (e.g., matrices), you might need to manage indices for multiple dimensions. One approach is to use np.ndenumerate, which is specially designed for multi-dimensional enumeration:"
   ]
  },
  {
   "cell_type": "code",
   "execution_count": 98,
   "metadata": {},
   "outputs": [
    {
     "name": "stdout",
     "output_type": "stream",
     "text": [
      "Index: (0, 0), Value: 1\n",
      "Index: (0, 1), Value: 2\n",
      "Index: (0, 2), Value: 3\n",
      "Index: (1, 0), Value: 4\n",
      "Index: (1, 1), Value: 5\n",
      "Index: (1, 2), Value: 6\n",
      "Index: (2, 0), Value: 7\n",
      "Index: (2, 1), Value: 8\n",
      "Index: (2, 2), Value: 9\n"
     ]
    }
   ],
   "source": [
    "# Create a 2D NumPy array\n",
    "matrix = np.array([[1, 2, 3],\n",
    "                   [4, 5, 6],\n",
    "                   [7, 8, 9]])\n",
    "\n",
    "# Enumerate using np.ndenumerate\n",
    "for index, value in np.ndenumerate(matrix):\n",
    "    print(f\"Index: {index}, Value: {value}\")"
   ]
  },
  {
   "cell_type": "markdown",
   "metadata": {},
   "source": [
    "**Explanation:**\n",
    "\n",
    "Basic `enumerate`: Directly generates the index and the value for each item in a one-dimensional array. This is similar to how you'd enumerate a list in Python.\n",
    "\n",
    "`np.ndenumerate`: Specifically designed for multi-dimensional arrays, providing indices as tuples that reflect the position within the array's dimensions, such as (0, 0) for the first position in a 2D matrix."
   ]
  },
  {
   "cell_type": "markdown",
   "metadata": {
    "id": "H5gsMBnSuNmN"
   },
   "source": [
    "---\n",
    "It has to be noted that, slices share memory with original array. \n",
    "\n",
    "In the below example, var12 is created by slicing var11. Notice the change in var11 after modifying var12."
   ]
  },
  {
   "cell_type": "code",
   "execution_count": null,
   "metadata": {
    "id": "wMJMuZTps94q"
   },
   "outputs": [],
   "source": [
    "var11 = np.array([1, 2, 3])\n",
    "\n",
    "var12 = var11[0:1]\n",
    "\n",
    "print('before changing:', var11)\n",
    "var12[0] = 4\n",
    "print('after changing:', var11)"
   ]
  },
  {
   "cell_type": "markdown",
   "metadata": {
    "id": "5gh4783VyOPN"
   },
   "source": [
    "This leaves us with the question of how the array copy works in numpy"
   ]
  },
  {
   "cell_type": "markdown",
   "metadata": {
    "id": "nj5X_ym4tk3D"
   },
   "source": [
    "# Array Copy\n",
    "\n",
    "When you create a new array using the '=' operator, no new copy of the array is created, ie, only a name is created but it refers to the same object."
   ]
  },
  {
   "cell_type": "code",
   "execution_count": 66,
   "metadata": {
    "id": "LRuyykbj5ce8"
   },
   "outputs": [
    {
     "name": "stdout",
     "output_type": "stream",
     "text": [
      "Before modifying [1 2 3 4 5]\n",
      "After modifying [2 2 3 4 5]\n"
     ]
    }
   ],
   "source": [
    "var13 = np.array([1, 2, 3, 4, 5])\n",
    "\n",
    "var14 = var13\n",
    "print('Before modifying', var13)\n",
    "\n",
    "var14[0] += 1\n",
    "print('After modifying', var13)"
   ]
  },
  {
   "cell_type": "markdown",
   "metadata": {
    "id": "O9LJvXVU6moG"
   },
   "source": [
    "When a view function is used to create a copy of the array, or when the array is sliced, the returned array is only a shallow copy of the original array, ie, an array object is created but the object points to the same data"
   ]
  },
  {
   "cell_type": "code",
   "execution_count": 81,
   "metadata": {
    "id": "wKiN-nK07P2U"
   },
   "outputs": [
    {
     "name": "stdout",
     "output_type": "stream",
     "text": [
      "Before modifying (using view) [1 2 3 4 5]\n",
      "After modifying (using view) [2 2 3 4 5]\n",
      "Before modifying (using slice) [2 2 3 4 5]\n",
      "After modifying (using slice) [2 2 4 4 5]\n"
     ]
    }
   ],
   "source": [
    "var15 = np.array([1, 2, 3, 4, 5])\n",
    "\n",
    "var16 = var15.view()\n",
    "print('Before modifying (using view)', var15)\n",
    "\n",
    "var16[0] += 1\n",
    "print('After modifying (using view)', var15)\n",
    "\n",
    "var17 = var15[0:3]\n",
    "print('Before modifying (using slice)', var15)\n",
    "\n",
    "var17[2] += 1\n",
    "print('After modifying (using slice)', var15)"
   ]
  },
  {
   "cell_type": "markdown",
   "metadata": {
    "id": "SxMWSP-o7oFo"
   },
   "source": [
    "To create a deep copy of the array, it is necessary to use the copy method"
   ]
  },
  {
   "cell_type": "code",
   "execution_count": 89,
   "metadata": {
    "id": "Y5vKaBkk87Bp"
   },
   "outputs": [
    {
     "name": "stdout",
     "output_type": "stream",
     "text": [
      "Before modifying (using copy) [1 2 3 4 5]\n",
      "After modifying (using copy) [1 2 3 4 5]\n",
      "After modifying (using copy) [2 2 3 4 5]\n"
     ]
    }
   ],
   "source": [
    "var18 = np.array([1, 2, 3, 4, 5])\n",
    "\n",
    "var19 = var18.copy()\n",
    "print('Before modifying (using copy)', var18)\n",
    "\n",
    "var19[0] += 1\n",
    "print('After modifying (using copy)', var18)\n",
    "print('After modifying (using copy)', var19)"
   ]
  },
  {
   "cell_type": "markdown",
   "metadata": {
    "id": "DdxYPyqYukNf"
   },
   "source": [
    "# Adding new axis\n",
    "\n",
    "It is also possible to increase the dimensions of a numpy array. **np.newaxis** and **expand_dims** can be used to increase the dimensions of the array. This would be used very handy in building convolutional neural networks where you would need to have uniform channel lengths *(will be used in the later exercises)*."
   ]
  },
  {
   "cell_type": "code",
   "execution_count": 94,
   "metadata": {
    "id": "6pb3JQWVujSr"
   },
   "outputs": [
    {
     "name": "stdout",
     "output_type": "stream",
     "text": [
      "[1 2 3 4 5]\n",
      "(5,)\n",
      "\n",
      "\n",
      "[[1 2 3 4 5]]\n",
      "(1, 5)\n",
      "\n",
      "\n",
      "[[[1 2 3 4 5]]]\n",
      "(1, 1, 5)\n",
      "\n",
      "\n",
      "[[1]\n",
      " [2]\n",
      " [3]\n",
      " [4]\n",
      " [5]]\n",
      "(5, 1)\n",
      "\n",
      "\n",
      "[[1 2 3 4 5]]\n",
      "(1, 5)\n",
      "\n",
      "\n"
     ]
    }
   ],
   "source": [
    "var20 = np.array([1, 2, 3, 4, 5])\n",
    "print(var20)\n",
    "print(var20.shape)\n",
    "print(\"\\n\")\n",
    "a = var20[np.newaxis, :]  # adding new axis to the first axis\n",
    "print(a)\n",
    "print(a.shape)\n",
    "print(\"\\n\")\n",
    "b = a[np.newaxis, :]  # adding new axis to the first axis\n",
    "print(b)\n",
    "print(b.shape)\n",
    "print(\"\\n\")\n",
    "c = np.expand_dims(var20, axis=1)  # adding new axis to the second axis\n",
    "print(c)\n",
    "print(c.shape)\n",
    "print(\"\\n\")\n",
    "d = np.expand_dims(var20, axis=0)  # adding new axis to the first axis\n",
    "print(d)\n",
    "print(d.shape)\n",
    "print(\"\\n\")"
   ]
  },
  {
   "cell_type": "markdown",
   "metadata": {
    "id": "o8xkokp5s3F4"
   },
   "source": [
    "# Broadcasting Rules\n",
    "\n",
    "Broadcasting deals with how numpy treats arrays with different sizes during arithmetic operations. In general, the smaller arrays are broadcasted into the larger array shapes so that both the arrays are compatible.\n",
    "\n",
    "Read [basic broadcasting rules](https://numpy.org/doc/stable/user/basics.broadcasting.html) for basic knowledge about broadcasting.\n",
    "Also read [Array broadcasting](https://numpy.org/doc/stable/user/theory.broadcasting.html#array-broadcasting-in-numpy).\n"
   ]
  },
  {
   "cell_type": "markdown",
   "metadata": {},
   "source": [
    "**I do not understand the last example (var20) each row**"
   ]
  },
  {
   "cell_type": "code",
   "execution_count": 99,
   "metadata": {
    "id": "8c8Rza6BJ3Eq"
   },
   "outputs": [
    {
     "name": "stdout",
     "output_type": "stream",
     "text": [
      "[[1.2 2.3 4. ]\n",
      " [1.2 3.4 5.2]\n",
      " [0.  1.  1.3]\n",
      " [0.  1.  0.2]]\n",
      "\n",
      "\n",
      "[[ 2.4  4.6  8. ]\n",
      " [ 2.4  6.8 10.4]\n",
      " [ 0.   2.   2.6]\n",
      " [ 0.   2.   0.4]]\n",
      "\n",
      "\n",
      "[[2.2 2.3 5. ]\n",
      " [2.2 3.4 6.2]\n",
      " [1.  1.  2.3]\n",
      " [1.  1.  1.2]]\n"
     ]
    }
   ],
   "source": [
    "var20 = np.array([[1.2, 2.3, 4.0],\n",
    "                  [1.2, 3.4, 5.2],\n",
    "                  [0.0, 1.0, 1.3],\n",
    "                  [0.0, 1.0, 2e-1]])\n",
    "\n",
    "print(var20)\n",
    "print('\\n')\n",
    "\n",
    "print(var20 * 2)  # multiplying each element with 2\n",
    "print('\\n')\n",
    "\n",
    "print(var20 + [1, 0, 1])  # multiplying each row with [1, 0, 1]]"
   ]
  },
  {
   "cell_type": "markdown",
   "metadata": {
    "id": "u-cBHSIZLX2I"
   },
   "source": [
    "**Exercise #06:**\n",
    "\n",
    "Normalizing values is an important area in any image processing and machine learning problem. In this exercise, we will try to apply normalization at different axis to understand the role of broadcasting."
   ]
  },
  {
   "cell_type": "code",
   "execution_count": 118,
   "metadata": {
    "id": "T0nzFs-8WT3n"
   },
   "outputs": [
    {
     "name": "stdout",
     "output_type": "stream",
     "text": [
      "compute All Columns (Across Rows) mean: [2.5        3.26666667 0.76666667 0.4       ]\n",
      "compute All Rows (Across Columns) mean: [0.6   1.925 2.675]\n",
      "Row-wise mean subtracted:\n",
      " [[-1.3        -0.2         1.5       ]\n",
      " [-2.06666667  0.13333333  1.93333333]\n",
      " [-0.76666667  0.23333333  0.53333333]\n",
      " [-0.4         0.6        -0.2       ]]\n",
      "Normalized array using global mean:\n",
      " [[-0.33482623  0.35575287  1.42301148]\n",
      " [-0.33482623  1.04633197  2.1763705 ]\n",
      " [-1.08818525 -0.46038607 -0.27204631]\n",
      " [-1.08818525 -0.46038607 -0.96262542]]\n"
     ]
    }
   ],
   "source": [
    "var21 = np.array([[1.2, 2.3, 4.0],\n",
    "                  [1.2, 3.4, 5.2],\n",
    "                  [0.0, 1.0, 1.3],\n",
    "                  [0.0, 1.0, 2e-1]])\n",
    "\n",
    "# compute row wise mean\n",
    "var21_mean_row =   np.mean(var21, axis=1, keepdims=True )                 # code fill up\n",
    "print('compute All Columns (Across Rows) mean:', var21_mean)\n",
    "\n",
    "# compute column wise mean\n",
    "var21_mean_clm = np.mean(var21, axis=0 )                # code fill up\n",
    "print('compute All Rows (Across Columns) mean:', var21_mean_clm)\n",
    "\n",
    "# do row wise mean subtraction and column wise mean subtraction\n",
    "# solution\n",
    "row_mean_subtracted = var21 - var21_mean_row\n",
    "print(\"Row-wise mean subtracted:\\n\", row_mean_subtracted)\n",
    "\n",
    "\n",
    "# how do we normalize the entire array using the global mean?\n",
    "# solution\n",
    "\n",
    "global_mean = np.mean(var21)\n",
    "global_std = np.std(var21)\n",
    "\n",
    "# Normalize using global mean\n",
    "normalized_array = (var21 - global_mean) / global_std\n",
    "\n",
    "print(\"Normalized array using global mean:\\n\", normalized_array)\n",
    "\n"
   ]
  },
  {
   "cell_type": "markdown",
   "metadata": {
    "id": "d1H1A0uLW-34"
   },
   "source": [
    "---\n",
    "\n",
    "*   Can you think of an example of row wise normalization and column wise normalization?\n",
    "\n"
   ]
  },
  {
   "cell_type": "markdown",
   "metadata": {
    "id": "9wjQ96aYXKf3"
   },
   "source": [
    "**Solution**\n",
    "\n",
    "*(Double-click or enter to edit)*\n",
    "\n",
    "..."
   ]
  },
  {
   "cell_type": "markdown",
   "metadata": {},
   "source": [
    "**Row-wise Normalization**\n",
    "\n",
    "*Definition*: Row-wise normalization means adjusting the data across each row so that each element in a row is in relation to the other elements in that row. One common method is to scale the values so that each row sums to 1, or to fit within a fixed range like [0,1].\n",
    "\n",
    "A dataset where each row represents the daily nutrient intake of a person (e.g., calories, proteins, fats). You might want to normalize each row to sum up to 1 to observe relative proportions for dietary analysis.\n"
   ]
  },
  {
   "cell_type": "code",
   "execution_count": 120,
   "metadata": {},
   "outputs": [
    {
     "name": "stdout",
     "output_type": "stream",
     "text": [
      "Row-wise normalized data:\n",
      " [[0.16666667 0.33333333 0.5       ]\n",
      " [0.2        0.33333333 0.46666667]]\n"
     ]
    }
   ],
   "source": [
    "import numpy as np\n",
    "\n",
    "# Example array\n",
    "data = np.array([[10, 20, 30],\n",
    "                 [15, 25, 35]])\n",
    "\n",
    "# Sum each row\n",
    "row_sums = np.sum(data, axis=1, keepdims=True)\n",
    "\n",
    "# Row-wise normalization\n",
    "normalized_rows = data / row_sums\n",
    "print(\"Row-wise normalized data:\\n\", normalized_rows)"
   ]
  },
  {
   "cell_type": "markdown",
   "metadata": {},
   "source": [
    "***Column-wise Normalization***\n",
    "\n",
    "*Definition*: Column-wise normalization involves adjusting the data such that each element in a column is in relation to the other elements in that column. Often, this could be by standardizing or scaling values within each column to a specific range.\n",
    "\n",
    "Example:\n",
    "\n",
    "A classroom where each column is a different exam, and each row represents a student. Column-wise normalization can help manage disparities in grading scales between exams."
   ]
  },
  {
   "cell_type": "code",
   "execution_count": 119,
   "metadata": {},
   "outputs": [
    {
     "name": "stdout",
     "output_type": "stream",
     "text": [
      "Column-wise normalized data:\n",
      " [[0.  0.  0. ]\n",
      " [0.5 0.5 0.5]\n",
      " [1.  1.  1. ]]\n"
     ]
    }
   ],
   "source": [
    "# Example array\n",
    "data = np.array([[40, 60, 80],\n",
    "                 [50, 70, 90],\n",
    "                 [60, 80, 100]])\n",
    "\n",
    "# Find minimum and maximum of each column for min-max scaling\n",
    "col_min = np.min(data, axis=0)\n",
    "col_max = np.max(data, axis=0)\n",
    "\n",
    "# Column-wise normalization to [0, 1] range\n",
    "normalized_columns = (data - col_min) / (col_max - col_min)\n",
    "print(\"Column-wise normalized data:\\n\", normalized_columns)"
   ]
  },
  {
   "cell_type": "markdown",
   "metadata": {
    "id": "DxBNbsYPYJ3Q"
   },
   "source": [
    "\n",
    "\n",
    "---\n",
    "\n",
    "\n",
    "**It has to be noted that this is not a complete tutorial covering the complete numpy aspects. This is provided as an introduction to numpy and its ease of use in numerical computation.**"
   ]
  }
 ],
 "metadata": {
  "colab": {
   "collapsed_sections": [],
   "provenance": []
  },
  "kernelspec": {
   "display_name": "base",
   "language": "python",
   "name": "python3"
  },
  "language_info": {
   "codemirror_mode": {
    "name": "ipython",
    "version": 3
   },
   "file_extension": ".py",
   "mimetype": "text/x-python",
   "name": "python",
   "nbconvert_exporter": "python",
   "pygments_lexer": "ipython3",
   "version": "3.12.7"
  }
 },
 "nbformat": 4,
 "nbformat_minor": 1
}
